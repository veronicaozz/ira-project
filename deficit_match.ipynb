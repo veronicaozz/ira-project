{
 "cells": [
  {
   "cell_type": "code",
   "execution_count": 69,
   "metadata": {
    "collapsed": true
   },
   "outputs": [],
   "source": [
    "%matplotlib inline\n",
    "import numpy as np\n",
    "import csv"
   ]
  },
  {
   "cell_type": "code",
   "execution_count": 94,
   "metadata": {
    "collapsed": false
   },
   "outputs": [],
   "source": [
    "import csv\n",
    "\n",
    "#importing the csv file\n",
    "with open('deficits.csv') as f:\n",
    "    defmatrix=[list(line) for line in csv.reader(f)]\n",
    "#defmatrix is a matrix (list of lists) of all rows of dataset"
   ]
  },
  {
   "cell_type": "code",
   "execution_count": 95,
   "metadata": {
    "collapsed": false
   },
   "outputs": [],
   "source": [
    "defmatrix2 = []\n",
    "defmatrix2.append(defmatrix[0])\n",
    "for row in defmatrix[1:]:\n",
    "    rowtemp=[]\n",
    "    rowtemp.append(row[0])\n",
    "    for x in row[3:]:\n",
    "        x = float(x)\n",
    "        rowtemp.append(x)\n",
    "    defmatrix2.append(rowtemp)"
   ]
  },
  {
   "cell_type": "code",
   "execution_count": 7,
   "metadata": {
    "collapsed": false
   },
   "outputs": [],
   "source": [
    "#print(defmatrix2)"
   ]
  },
  {
   "cell_type": "code",
   "execution_count": 96,
   "metadata": {
    "collapsed": false
   },
   "outputs": [
    {
     "name": "stdout",
     "output_type": "stream",
     "text": [
      "['420', '405', '400', '600', '506', '309', '251', '411', '111', '200', '122', '253 & 254', '304', '409', '402', '108', '109', '107', '601', '121', '408', '605', '602', '113', '306', '102 & 105', '901 & 902', '505', '510', '100', '250', '303', '404', '106', '406', '407', '509', '604', '900', '301', '702', '202', '307', '703', '252', '500', '800', '305', '700', '603', '424', '118 & 124', '504', '507', '302', '403', '201', '401', '502', '701', '501', '112', '300', '503', '414']\n"
     ]
    }
   ],
   "source": [
    "services = []\n",
    "for row in defmatrix2[1:]:\n",
    "    services.append(row[0])\n",
    "uniques = set(services)\n",
    "uniques2 = list(uniques)\n",
    "print(uniques2)"
   ]
  },
  {
   "cell_type": "code",
   "execution_count": 98,
   "metadata": {
    "collapsed": false
   },
   "outputs": [
    {
     "name": "stdout",
     "output_type": "stream",
     "text": [
      "[0.0, 0.0, 0.0, 0.0, 0.0, 0.0, 0.0, 0.0, 0.0, -1259.0, -1284.0, -1307.0]\n"
     ]
    }
   ],
   "source": [
    "uniqdef = {}\n",
    "uniqcounter=[]\n",
    "for item in uniques:\n",
    "    sums=[0.0]*12\n",
    "    counter=0\n",
    "    for row in defmatrix2[1:]:\n",
    "        if row[0] == item:\n",
    "            counter+=1\n",
    "            deficits=[]\n",
    "            temp = 0\n",
    "            for value in range(12):\n",
    "                if temp < 24:\n",
    "                    curr = getdeficit(row[1:], temp, temp+1)\n",
    "                    deficits.append(curr)\n",
    "                    temp+=2\n",
    "            for value in range(12):\n",
    "                sums[value]+=deficits[value]\n",
    "    uniqdef[item] = sums\n",
    "    uniqcounter.append((item,counter))\n",
    "print(uniqdef[\"304\"])"
   ]
  },
  {
   "cell_type": "code",
   "execution_count": 85,
   "metadata": {
    "collapsed": true
   },
   "outputs": [],
   "source": [
    "def getdeficit(row, fund_index, req_index):\n",
    "    \"\"\"Returns the deficit of a pair of funding/requirements.\n",
    "    row: a list of fund/reqs (2010-2021, len(row) = 26)\n",
    "    fund_index: the index of the desired year's funding in the list\n",
    "    req_index: the index of the desired year's requirements in the list\"\"\"\n",
    "    \n",
    "    fund = row[fund_index]\n",
    "    #print(\"This is the funding: \" + str(fund))\n",
    "    req = row[req_index]\n",
    "    #print(\"This is the requirement: \" + str(req))\n",
    "    \n",
    "    #UNDER-FUNDING\n",
    "    if fund < 0.0:\n",
    "        #print(\"UNDER\")\n",
    "        deficit = fund\n",
    "        \n",
    "    elif ((fund > req) and (req == 0.0) and (fund > 0.0)):\n",
    "        #print(\"MET\")\n",
    "        deficit = 0.0\n",
    "        \n",
    "    elif ((fund < req) and (fund == 0.0) and (req > 0.0)):\n",
    "        #print(\"UNDER\")\n",
    "        deficit = fund-req\n",
    "        \n",
    "    elif ((fund > req) and (fund > 0.0) and (req > 0.0)):\n",
    "        #print(\"OVER\")\n",
    "        deficit = fund-req\n",
    "        \n",
    "    elif ((fund < req) and (fund > 0.0) and (req > 0.0)):\n",
    "        #print(\"UNDER\")\n",
    "        deficit = fund-req\n",
    "        \n",
    "    elif (fund == req):\n",
    "        #print(\"MET\")\n",
    "        deficit = 0.0\n",
    "        \n",
    "    return deficit"
   ]
  },
  {
   "cell_type": "code",
   "execution_count": null,
   "metadata": {
    "collapsed": true
   },
   "outputs": [],
   "source": [
    "test = [-80, 10, -80, 0, 80, 0, 0, 80, 100, 80, 80, 100, 80, 80, 0, 0]"
   ]
  },
  {
   "cell_type": "markdown",
   "metadata": {},
   "source": [
    "# TESTING"
   ]
  },
  {
   "cell_type": "code",
   "execution_count": 75,
   "metadata": {
    "collapsed": false
   },
   "outputs": [],
   "source": [
    "def get_deficit_ratios(iss, row):\n",
    "    \"\"\"Returns the ratio for a row of funding/requirements.\n",
    "    row: a list of fund/reqs (2010-2021, len(row) = 24, pairs = 12)\"\"\"\n",
    "    rowreqs = []\n",
    "    for item in range(len(row)):\n",
    "        if (item % 2 != 0):\n",
    "            rowreqs.append(row[item])\n",
    "    #print(\"REQS: \" + str(rowreqs))\n",
    "    \n",
    "    rowfunds = []\n",
    "    for item in range(len(row)):\n",
    "        if (item %2 == 0):\n",
    "            rowfunds.append(row[item])\n",
    "    #print(\"FUNDS: \" + str(rowfunds))\n",
    "    \n",
    "    rowdefs = []\n",
    "    ratios = []\n",
    "    for i in range(12):\n",
    "        fund = rowfunds[i]\n",
    "        req = rowreqs[i]\n",
    "\n",
    "        if fund < 0.0:\n",
    "            #print(\"UNDER\")\n",
    "            deficit = fund\n",
    "            ratio = -((np.absolute(fund)/(np.absolute(fund)+req)))\n",
    "\n",
    "        elif ((fund > req) and (req == 0.0) and (fund > 0.0)):\n",
    "            #print(\"MET\")\n",
    "            deficit = 0.0\n",
    "            ratio = 0.0\n",
    "\n",
    "        elif ((fund < req) and (fund == 0.0) and (req > 0.0)):\n",
    "            #print(\"UNDER\")\n",
    "            deficit = fund-req\n",
    "            ratio = deficit/req\n",
    "\n",
    "        elif ((fund > req) and (fund > 0.0) and (req > 0.0)):\n",
    "            #print(\"OVER\")\n",
    "            deficit = fund-req\n",
    "            ratio = (deficit)/req\n",
    "            #FLAG for over-funded outliers\n",
    "            if ratio >= 100.0:\n",
    "                print(\"ISS \"+str(iss)+' with ratio '+str(ratio)+\" in \"+str((fund,req))+ \", flagged for possible outlier\")\n",
    "                print(\"Replaced with ratio = 100.0 (over-funded) to prevent inflated ratio from biasing insights\")\n",
    "                ratio =100.0\n",
    "                print(\"\")\n",
    "\n",
    "        elif ((fund < req) and (fund > 0.0) and (req > 0.0)):\n",
    "            #print(\"UNDER\")\n",
    "            deficit = fund-req\n",
    "            ratio = deficit/req\n",
    "\n",
    "        elif (fund == req):\n",
    "            #print(\"MET\")\n",
    "            deficit = 0.0\n",
    "            ratio = 0.0\n",
    "\n",
    "        rowdefs.append(deficit)\n",
    "        ratios.append(ratio)\n",
    "    #print(\"DEFS: \" + str(rowdefs))\n",
    "    return ratios"
   ]
  },
  {
   "cell_type": "code",
   "execution_count": 12,
   "metadata": {
    "collapsed": false
   },
   "outputs": [],
   "source": [
    "#CHECKPOINT\n",
    "#print(defmatrix2[1:][1:17][2][1:])\n",
    "#for x in np.arange(16):\n",
    "   # print(get_deficit_ratios(defmatrix2[1:][1:17][x][1:]))"
   ]
  },
  {
   "cell_type": "code",
   "execution_count": 76,
   "metadata": {
    "collapsed": false
   },
   "outputs": [
    {
     "name": "stdout",
     "output_type": "stream",
     "text": [
      "ISS 600 with ratio 341.63829787234044 in (80520.0, 235.0), flagged for possible outlier\n",
      "Replaced with ratio = 100.0 (over-funded) to prevent inflated ratio from biasing insights\n",
      "\n",
      "ISS 600 with ratio 152.07926829268294 in (50210.0, 328.0), flagged for possible outlier\n",
      "Replaced with ratio = 100.0 (over-funded) to prevent inflated ratio from biasing insights\n",
      "\n",
      "ISS 108 with ratio 419.20168067226894 in (350028.0, 833.0), flagged for possible outlier\n",
      "Replaced with ratio = 100.0 (over-funded) to prevent inflated ratio from biasing insights\n",
      "\n",
      "ISS 700 with ratio 20085.11111111111 in (180775.0, 9.0), flagged for possible outlier\n",
      "Replaced with ratio = 100.0 (over-funded) to prevent inflated ratio from biasing insights\n",
      "\n"
     ]
    }
   ],
   "source": [
    "ratiorows = {}\n",
    "for item in uniques:\n",
    "    ratiocount = 0\n",
    "    sums=[0.0]*12\n",
    "    newsums = [0.0]*12\n",
    "    for row in defmatrix2[1:]:\n",
    "        if row[0] == item:\n",
    "            ratios = get_deficit_ratios(item, row[1:])\n",
    "            for value in range(12):\n",
    "                sums[value]+=ratios[value]\n",
    "            ratiocount+=1\n",
    "    for value in range(len(sums)):\n",
    "        temp = sums[value]/ratiocount\n",
    "        newsums[value] = temp\n",
    "    ratiorows[item] = newsums\n",
    "\n",
    "#for item in uniques:\n",
    "    #print(str(item) + ': ' + str(ratiorows[item]))\n",
    "    #print(\"\")"
   ]
  },
  {
   "cell_type": "code",
   "execution_count": 77,
   "metadata": {
    "collapsed": false
   },
   "outputs": [],
   "source": [
    "rowvalues = ['F10', 'R10', 'F11', 'R11', 'F12', 'R12', 'F13', 'R13', 'F14', 'R14',\n",
    "           'F15', 'R15', 'F16', 'R16', 'F17', 'R17', 'F18', 'R18', 'F19', 'R19', 'F20', 'R20', 'F21', 'R21']\n",
    "rowyears = ['2010', '2011', '2012', '2013', '2014', '2015', '2016', '2017', '2018', '2019', '2020', '2021']"
   ]
  },
  {
   "cell_type": "code",
   "execution_count": 86,
   "metadata": {
    "collapsed": false
   },
   "outputs": [],
   "source": [
    "keys=[]\n",
    "for uni in uniques:\n",
    "    for k in uniqdef.keys():\n",
    "        if k == uni:\n",
    "            keys.append(k)\n",
    "\n",
    "rowtuples = []\n",
    "rowtuples.append(keys)\n",
    "for uni in uniques:\n",
    "    for k in uniqdef.keys():\n",
    "        if k == uni:\n",
    "            loc = list(uniqdef.keys()).index(k)\n",
    "            v = (list(uniqdef.values()))[loc]\n",
    "            rowtuples.append(v)"
   ]
  },
  {
   "cell_type": "code",
   "execution_count": 87,
   "metadata": {
    "collapsed": true
   },
   "outputs": [],
   "source": [
    "keys=[]\n",
    "for uni in uniques:\n",
    "    for k in ratiorows.keys():\n",
    "        if k == uni:\n",
    "            keys.append(k)\n",
    "\n",
    "ratiotuples = []\n",
    "ratiotuples.append(keys)\n",
    "for uni in uniques:\n",
    "    for k in ratiorows.keys():\n",
    "        if k == uni:\n",
    "            loc = list(ratiorows.keys()).index(k)\n",
    "            v = (list(ratiorows.values()))[loc]\n",
    "            ratiotuples.append(v)"
   ]
  },
  {
   "cell_type": "code",
   "execution_count": 80,
   "metadata": {
    "collapsed": false
   },
   "outputs": [],
   "source": [
    "with open('newnumbers2.csv', 'w') as f:  # Just use 'w' mode in 3.x\n",
    "    w = csv.writer(f, delimiter=',', quoting=csv.QUOTE_ALL)\n",
    "    for k in uniqdef.keys():\n",
    "        w.writerow(k)\n",
    "    for v in uniqdef.values():\n",
    "        w.writerow(v)"
   ]
  },
  {
   "cell_type": "code",
   "execution_count": 64,
   "metadata": {
    "collapsed": false
   },
   "outputs": [],
   "source": [
    "with open('ratios.csv', 'w') as f:  # Just use 'w' mode in 3.x\n",
    "    w = csv.writer(f, delimiter=',', quoting=csv.QUOTE_ALL)\n",
    "    for k in ratiorows.keys():\n",
    "        w.writerow(k)\n",
    "    for v in ratiorows.values():\n",
    "        w.writerow(v)"
   ]
  },
  {
   "cell_type": "code",
   "execution_count": null,
   "metadata": {
    "collapsed": true
   },
   "outputs": [],
   "source": []
  }
 ],
 "metadata": {
  "kernelspec": {
   "display_name": "Python 3",
   "language": "python",
   "name": "python3"
  },
  "language_info": {
   "codemirror_mode": {
    "name": "ipython",
    "version": 3
   },
   "file_extension": ".py",
   "mimetype": "text/x-python",
   "name": "python",
   "nbconvert_exporter": "python",
   "pygments_lexer": "ipython3",
   "version": "3.5.0"
  }
 },
 "nbformat": 4,
 "nbformat_minor": 0
}
