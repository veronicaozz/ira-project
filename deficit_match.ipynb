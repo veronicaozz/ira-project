{
 "cells": [
  {
   "cell_type": "code",
   "execution_count": 1,
   "metadata": {
    "collapsed": true
   },
   "outputs": [],
   "source": [
    "%matplotlib inline\n",
    "import numpy as np\n",
    "import csv\n",
    "import matplotlib.pyplot as plt"
   ]
  },
  {
   "cell_type": "code",
   "execution_count": 28,
   "metadata": {
    "collapsed": false
   },
   "outputs": [],
   "source": [
    "import csv\n",
    "\n",
    "#importing the csv file\n",
    "with open('deficits2.csv') as f:\n",
    "    defmatrix=[list(line) for line in csv.reader(f)]\n",
    "#defmatrix is a matrix (list of lists) of all rows of dataset"
   ]
  },
  {
   "cell_type": "code",
   "execution_count": 36,
   "metadata": {
    "collapsed": false
   },
   "outputs": [],
   "source": [
    "defmatrix2 = []\n",
    "defmatrix2.append(defmatrix[0])\n",
    "for row in defmatrix[1:]:\n",
    "    rowtemp=[]\n",
    "    rowtemp.append(row[0])\n",
    "    for x in row[3:]:\n",
    "        x = float(x)\n",
    "        rowtemp.append(x)\n",
    "    defmatrix2.append(rowtemp)"
   ]
  },
  {
   "cell_type": "code",
   "execution_count": 31,
   "metadata": {
    "collapsed": false
   },
   "outputs": [],
   "source": [
    "#print(defmatrix2)"
   ]
  },
  {
   "cell_type": "code",
   "execution_count": 37,
   "metadata": {
    "collapsed": false
   },
   "outputs": [
    {
     "name": "stdout",
     "output_type": "stream",
     "text": [
      "['506', '409', '604', '600', '122', '601', '900', '253 & 254', '250', '111', '107', '509', '201', '252', '118 & 124', '202', '420', '100', '108', '121', '603', '102 & 105', '702', '113', '424', '703', '507', '701', '800', '106', '901 & 902', '602', '112', '411', '251', '700', '200', '605', '109', '505']\n"
     ]
    }
   ],
   "source": [
    "services = []\n",
    "for row in defmatrix2[1:]:\n",
    "    services.append(row[0])\n",
    "uniques = set(services)\n",
    "uniques2 = list(uniques)\n",
    "print(uniques2)"
   ]
  },
  {
   "cell_type": "code",
   "execution_count": 48,
   "metadata": {
    "collapsed": false
   },
   "outputs": [
    {
     "name": "stdout",
     "output_type": "stream",
     "text": [
      "There was an error with row: [0.0, 0.0, 0.0, 0.0, 0.0, 0.0, 5324.0, 5902.0, 4371.0, 5305.0, 6474.0, 5141.0, 3670.0, 4466.0, 1966.0, -999.0, 1313.0, 0.0, 1391.0, 0.0, 1436.0, 0.0, 1469.0, 0.0]\n",
      "ERROR: (1966.0,-999.0)\n",
      "[44064.0, 130596.0, -20851.0, 209098.0, -91380.0, -27943.0, -12770.0, -16019.0, 0.0, 0.0, 0.0, 0.0]\n"
     ]
    }
   ],
   "source": [
    "uniqdef = {}\n",
    "uniqcounter=[]\n",
    "for item in uniques:\n",
    "    sums=[0.0]*12\n",
    "    counter=0\n",
    "    for row in defmatrix2[1:]:\n",
    "        if row[0] == item:\n",
    "            counter+=1\n",
    "            deficits=[]\n",
    "            temp = 0\n",
    "            for value in range(12):\n",
    "                if temp < 24:\n",
    "                    curr = getdeficit(row[1:], temp, temp+1)\n",
    "                    deficits.append(curr)\n",
    "                    temp+=2\n",
    "            for value in range(12):\n",
    "                sums[value]+=deficits[value]\n",
    "    uniqdef[item] = sums\n",
    "    uniqcounter.append((item,counter))\n",
    "print(uniqdef[\"100\"])"
   ]
  },
  {
   "cell_type": "code",
   "execution_count": 47,
   "metadata": {
    "collapsed": true
   },
   "outputs": [],
   "source": [
    "def getdeficit(row, fund_index, req_index):\n",
    "    \"\"\"Returns the deficit of a pair of funding/requirements.\n",
    "    row: a list of fund/reqs (2010-2021, len(row) = 26)\n",
    "    fund_index: the index of the desired year's funding in the list\n",
    "    req_index: the index of the desired year's requirements in the list\"\"\"\n",
    "    \n",
    "    fund = row[fund_index]\n",
    "    #print(\"This is the funding: \" + str(fund))\n",
    "    req = row[req_index]\n",
    "    #print(\"This is the requirement: \" + str(req))\n",
    "    \n",
    "    #UNDER-FUNDING\n",
    "    if fund < 0.0:\n",
    "        #print(\"UNDER\")\n",
    "        deficit = fund\n",
    "        \n",
    "    elif ((fund > req) and (req == 0.0) and (fund > 0.0)):\n",
    "        #print(\"MET\")\n",
    "        deficit = 0.0\n",
    "        \n",
    "    elif ((fund < req) and (fund == 0.0) and (req > 0.0)):\n",
    "        #print(\"UNDER\")\n",
    "        deficit = fund-req\n",
    "        \n",
    "    elif ((fund > req) and (fund > 0.0) and (req > 0.0)):\n",
    "        #print(\"OVER\")\n",
    "        deficit = fund-req\n",
    "        \n",
    "    elif ((fund < req) and (fund > 0.0) and (req > 0.0)):\n",
    "        #print(\"UNDER\")\n",
    "        deficit = fund-req\n",
    "        \n",
    "    elif (fund == req):\n",
    "        #print(\"MET\")\n",
    "        deficit = 0.0\n",
    "    else:\n",
    "        print(\"There was an error with row: \" + str(row))\n",
    "        print(\"ERROR: (\" + str(row[fund_index]) + ',' + str(row[req_index]) + \")\" )\n",
    "        deficit=fund-np.absolute(req)\n",
    "    return deficit"
   ]
  },
  {
   "cell_type": "code",
   "execution_count": null,
   "metadata": {
    "collapsed": true
   },
   "outputs": [],
   "source": [
    "test = [-80, 10, -80, 0, 80, 0, 0, 80, 100, 80, 80, 100, 80, 80, 0, 0]"
   ]
  },
  {
   "cell_type": "markdown",
   "metadata": {},
   "source": [
    "# TESTING"
   ]
  },
  {
   "cell_type": "code",
   "execution_count": 49,
   "metadata": {
    "collapsed": false
   },
   "outputs": [],
   "source": [
    "def get_deficit_ratios(iss, row):\n",
    "    \"\"\"Returns the ratio for a row of funding/requirements.\n",
    "    row: a list of fund/reqs (2010-2021, len(row) = 24, pairs = 12)\"\"\"\n",
    "    rowreqs = []\n",
    "    for item in range(len(row)):\n",
    "        if (item % 2 != 0):\n",
    "            rowreqs.append(row[item])\n",
    "    #print(\"REQS: \" + str(rowreqs))\n",
    "    \n",
    "    rowfunds = []\n",
    "    for item in range(len(row)):\n",
    "        if (item %2 == 0):\n",
    "            rowfunds.append(row[item])\n",
    "    #print(\"FUNDS: \" + str(rowfunds))\n",
    "    \n",
    "    rowdefs = []\n",
    "    ratios = []\n",
    "    for i in range(12):\n",
    "        fund = rowfunds[i]\n",
    "        req = rowreqs[i]\n",
    "\n",
    "        if fund < 0.0:\n",
    "            #print(\"UNDER\")\n",
    "            deficit = fund\n",
    "            ratio = -((np.absolute(fund)/(np.absolute(fund)+req)))\n",
    "\n",
    "        elif ((fund > req) and (req == 0.0) and (fund > 0.0)):\n",
    "            #print(\"MET\")\n",
    "            deficit = 0.0\n",
    "            ratio = 0.0\n",
    "\n",
    "        elif ((fund < req) and (fund == 0.0) and (req > 0.0)):\n",
    "            #print(\"UNDER\")\n",
    "            deficit = fund-req\n",
    "            ratio = deficit/req\n",
    "\n",
    "        elif ((fund > req) and (fund > 0.0) and (req > 0.0)):\n",
    "            #print(\"OVER\")\n",
    "            deficit = fund-req\n",
    "            ratio = (deficit)/req\n",
    "            #FLAG for over-funded outliers\n",
    "            if ratio >= 100.0:\n",
    "                print(\"ISS \"+str(iss)+' with ratio '+str(ratio)+\" in \"+str((fund,req))+ \", flagged for possible outlier\")\n",
    "                print(\"Replaced with ratio = 100.0 (over-funded) to prevent inflated ratio from biasing insights\")\n",
    "                ratio =100.0\n",
    "                print(\"\")\n",
    "\n",
    "        elif ((fund < req) and (fund > 0.0) and (req > 0.0)):\n",
    "            #print(\"UNDER\")\n",
    "            deficit = fund-req\n",
    "            ratio = deficit/req\n",
    "\n",
    "        elif (fund == req):\n",
    "            #print(\"MET\")\n",
    "            deficit = 0.0\n",
    "            ratio = 0.0\n",
    "\n",
    "        rowdefs.append(deficit)\n",
    "        ratios.append(ratio)\n",
    "    #print(\"DEFS: \" + str(rowdefs))\n",
    "    return ratios"
   ]
  },
  {
   "cell_type": "code",
   "execution_count": 52,
   "metadata": {
    "collapsed": true
   },
   "outputs": [],
   "source": [
    "def get_deficit_ratios2(iss, row):\n",
    "    \"\"\"Returns the ratio for a row of funding/requirements.\n",
    "    row: a list of fund/reqs (2010-2021, len(row) = 24, pairs = 12)\"\"\"\n",
    "    rowreqs = []\n",
    "    for item in range(len(row)):\n",
    "        if (item % 2 != 0):\n",
    "            rowreqs.append(row[item])\n",
    "    \n",
    "    rowfunds = []\n",
    "    for item in range(len(row)):\n",
    "        if (item %2 == 0):\n",
    "            rowfunds.append(row[item])\n",
    "    \n",
    "    rowdefs = []\n",
    "    for i in range(12):\n",
    "        fund = rowfunds[i]\n",
    "        req = rowreqs[i]\n",
    "\n",
    "        if fund < 0.0:\n",
    "            #print(\"UNDER\")\n",
    "            deficit = fund\n",
    "\n",
    "        elif ((fund > req) and (req == 0.0) and (fund > 0.0)):\n",
    "            #print(\"MET\")\n",
    "            deficit = 0.0\n",
    "\n",
    "        elif ((fund < req) and (fund == 0.0) and (req > 0.0)):\n",
    "            #print(\"UNDER\")\n",
    "            deficit = fund-req\n",
    "\n",
    "        elif ((fund > req) and (fund > 0.0) and (req > 0.0)):\n",
    "            #print(\"OVER\")\n",
    "            deficit = fund-req\n",
    "\n",
    "        elif ((fund < req) and (fund > 0.0) and (req > 0.0)):\n",
    "            #print(\"UNDER\")\n",
    "            deficit = fund-req\n",
    "\n",
    "        elif (fund == req):\n",
    "            #print(\"MET\")\n",
    "            deficit = 0.0\n",
    "\n",
    "        rowdefs.append(deficit)\n",
    "        \n",
    "    difftuples=[]\n",
    "    for value in range(len(rowdefs)):\n",
    "        _def = rowdefs[value]\n",
    "        _req = rowreqs[value]\n",
    "        difftuples.append([_def,_req])\n",
    "    \n",
    "    return difftuples"
   ]
  },
  {
   "cell_type": "code",
   "execution_count": 55,
   "metadata": {
    "collapsed": false
   },
   "outputs": [
    {
     "name": "stdout",
     "output_type": "stream",
     "text": [
      "[0.0, 1671.0, 1558.0, 1359.0, 170.0, 170.0, 0.0, 175.0, 2820.0, 401.0, 0.0, 840.0, 442.0, 767.0, 528.0, 643.0, 551.0, 0.0, 578.0, 0.0, 597.0, 0.0, 599.0, 0.0]\n",
      "[[0.0, 0.0], [0.0, 0.0], [0.0, 0.0], [0.0, 0.0], [0.0, 0.0], [0.0, 0.0], [0.0, 0.0], [0.0, 0.0], [0.0, 0.0], [0.0, 0.0], [0.0, 0.0], [0.0, 0.0]]\n",
      "[[0.0, 0.0], [0.0, 0.0], [0.0, 0.0], [0.0, 0.0], [0.0, 0.0], [0.0, 0.0], [0.0, 0.0], [0.0, 0.0], [0.0, 0.0], [0.0, 0.0], [0.0, 0.0], [0.0, 0.0]]\n",
      "[[-1671.0, 1671.0], [199.0, 1359.0], [0.0, 170.0], [-175.0, 175.0], [2419.0, 401.0], [-840.0, 840.0], [-325.0, 767.0], [-115.0, 643.0], [0.0, 0.0], [0.0, 0.0], [0.0, 0.0], [0.0, 0.0]]\n",
      "[[0.0, 0.0], [0.0, 0.0], [0.0, 0.0], [0.0, 0.0], [0.0, 0.0], [0.0, 0.0], [0.0, 0.0], [0.0, 0.0], [0.0, 0.0], [0.0, 0.0], [0.0, 0.0], [0.0, 0.0]]\n",
      "[[0.0, 0.0], [0.0, 0.0], [0.0, 0.0], [0.0, 0.0], [0.0, 0.0], [0.0, 0.0], [0.0, 0.0], [0.0, 0.0], [0.0, 0.0], [0.0, 0.0], [0.0, 0.0], [0.0, 0.0]]\n",
      "[[-17873.0, 18105.0], [-20900.0, 21099.0], [-296.0, 478.0], [0.0, 217.0], [30.0, 311.0], [-106.0, 315.0], [-128.0, 320.0], [-72.0, 333.0], [0.0, 0.0], [0.0, 0.0], [0.0, 0.0], [0.0, 0.0]]\n",
      "[[-9649.0, 9649.0], [-8914.0, 10084.0], [-93.0, 5936.0], [-4958.0, 5360.0], [-66.0, 819.0], [0.0, 0.0], [0.0, 0.0], [0.0, 0.0], [0.0, 0.0], [0.0, 0.0], [0.0, 0.0], [0.0, 0.0]]\n",
      "[[-973.0, 973.0], [0.0, 0.0], [0.0, 0.0], [0.0, 0.0], [0.0, 0.0], [0.0, 0.0], [0.0, 0.0], [0.0, 0.0], [0.0, 0.0], [0.0, 0.0], [0.0, 0.0], [0.0, 0.0]]\n",
      "[[-6083.0, 7185.0], [-3160.0, 4133.0], [0.0, 3877.0], [-1050.0, 1706.0], [816.0, 757.0], [-504.0, 647.0], [-1205.0, 1500.0], [-4833.0, 7859.0], [0.0, 0.0], [0.0, 0.0], [0.0, 0.0], [0.0, 0.0]]\n",
      "[[101717.0, 143543.0], [151759.0, 118839.0], [-20403.0, 117484.0], [226139.0, 111128.0], [-83969.0, 83969.0], [-10869.0, 82863.0], [-7418.0, 63926.0], [-3556.0, 57705.0], [0.0, 0.0], [0.0, 0.0], [0.0, 0.0], [0.0, 0.0]]\n",
      "[[-17813.0, 26413.0], [-4364.0, 9770.0], [-59.0, 5417.0], [766.0, 5038.0], [-715.0, 6485.0], [989.0, 6243.0], [-265.0, 7625.0], [-26.0, 7726.0], [0.0, 0.0], [0.0, 0.0], [0.0, 0.0], [0.0, 0.0]]\n",
      "[[0.0, 0.0], [0.0, 0.0], [0.0, 0.0], [0.0, 0.0], [28.0, 156.0], [-157.0, 157.0], [646.0, 294.0], [0.0, 0.0], [0.0, 0.0], [0.0, 0.0], [0.0, 0.0], [0.0, 0.0]]\n",
      "[[-1562.0, 1817.0], [-1494.0, 1679.0], [0.0, 464.0], [-474.0, 474.0], [-186.0, 200.0], [-400.0, 400.0], [-164.0, 440.0], [0.0, 0.0], [0.0, 0.0], [0.0, 0.0], [0.0, 0.0], [0.0, 0.0]]\n",
      "[[-499.0, 499.0], [19002.0, 405.0], [0.0, 0.0], [0.0, 0.0], [0.0, 0.0], [0.0, 0.0], [0.0, 0.0], [0.0, 0.0], [0.0, 0.0], [0.0, 0.0], [0.0, 0.0], [0.0, 0.0]]\n",
      "[[0.0, 0.0], [0.0, 0.0], [0.0, 368.0], [301.0, 405.0], [0.0, 0.0], [-412.0, 412.0], [-131.0, 420.0], [0.0, 0.0], [0.0, 0.0], [0.0, 0.0], [0.0, 0.0], [0.0, 0.0]]\n",
      "[[-1634.0, 1879.0], [-1588.0, 1919.0], [0.0, 1938.0], [0.0, 0.0], [0.0, 0.0], [0.0, 0.0], [0.0, 0.0], [0.0, 0.0], [0.0, 0.0], [0.0, 0.0], [0.0, 0.0], [0.0, 0.0]]\n"
     ]
    }
   ],
   "source": [
    "#CHECKPOINT\n",
    "print(defmatrix2[1:][1:17][2][1:])\n",
    "for x in np.arange(16):\n",
    "    print(get_deficit_ratios2(x, defmatrix2[1:][1:17][x][1:]))"
   ]
  },
  {
   "cell_type": "code",
   "execution_count": 56,
   "metadata": {
    "collapsed": false
   },
   "outputs": [
    {
     "name": "stdout",
     "output_type": "stream",
     "text": [
      "ISS 600 with ratio 1672.6041666666667 in (80333.0, 48.0), flagged for possible outlier\n",
      "Replaced with ratio = 100.0 (over-funded) to prevent inflated ratio from biasing insights\n",
      "\n",
      "ISS 600 with ratio 361.463768115942 in (50020.0, 138.0), flagged for possible outlier\n",
      "Replaced with ratio = 100.0 (over-funded) to prevent inflated ratio from biasing insights\n",
      "\n",
      "ISS 600 with ratio 142.57142857142858 in (5025.0, 35.0), flagged for possible outlier\n",
      "Replaced with ratio = 100.0 (over-funded) to prevent inflated ratio from biasing insights\n",
      "\n",
      "ISS 600 with ratio 214.48387096774192 in (6680.0, 31.0), flagged for possible outlier\n",
      "Replaced with ratio = 100.0 (over-funded) to prevent inflated ratio from biasing insights\n",
      "\n",
      "ISS 108 with ratio 4476.858974358975 in (349273.0, 78.0), flagged for possible outlier\n",
      "Replaced with ratio = 100.0 (over-funded) to prevent inflated ratio from biasing insights\n",
      "\n",
      "ISS 700 with ratio 136.84639498432603 in (43973.0, 319.0), flagged for possible outlier\n",
      "Replaced with ratio = 100.0 (over-funded) to prevent inflated ratio from biasing insights\n",
      "\n",
      "ISS 700 with ratio 20085.11111111111 in (180775.0, 9.0), flagged for possible outlier\n",
      "Replaced with ratio = 100.0 (over-funded) to prevent inflated ratio from biasing insights\n",
      "\n"
     ]
    }
   ],
   "source": [
    "#FOR CALCULATION OF AVERAGE RATIOS PER APE\n",
    "ratiorows = {}\n",
    "for item in uniques:\n",
    "    ratiocount = 0\n",
    "    sums=[0.0]*12\n",
    "    newsums = [0.0]*12\n",
    "    for row in defmatrix2[1:]:\n",
    "        if row[0] == item:\n",
    "            ratios = get_deficit_ratios(item, row[1:])\n",
    "            for value in range(12):\n",
    "                sums[value]+=ratios[value]\n",
    "            ratiocount+=1\n",
    "    for value in range(len(sums)):\n",
    "        temp = sums[value]/ratiocount\n",
    "        newsums[value] = temp\n",
    "    ratiorows[item] = newsums\n",
    "\n",
    "#for item in uniques:\n",
    "    #print(str(item) + ': ' + str(ratiorows[item]))\n",
    "    #print(\"\")"
   ]
  },
  {
   "cell_type": "code",
   "execution_count": 61,
   "metadata": {
    "collapsed": false
   },
   "outputs": [
    {
     "name": "stdout",
     "output_type": "stream",
     "text": [
      "[0.2062370996503742, 0.7687001153674099, -0.15191764054440007, 1.1610556767892144, -0.6362357790372217, -0.19223175404682136, -0.10498191384413022, -0.15479973187314466, 0.0, 0.0, 0.0, 0.0]\n",
      "[44064.0, 130596.0, -20851.0, 209098.0, -91380.0, -27943.0, -12770.0, -16019.0, 0.0, 0.0, 0.0, 0.0]\n"
     ]
    }
   ],
   "source": [
    "#FOR CALCULATION OF RATIOS PER SERVICE\n",
    "ratiorows2 = {}\n",
    "for item in uniques:\n",
    "    defs2=[0.0]*12\n",
    "    reqs2=[0.0]*12\n",
    "    newratios = []\n",
    "    for row in defmatrix2[1:]:\n",
    "        if row[0] == item:\n",
    "            difftuples = get_deficit_ratios2(item, row[1:])\n",
    "            defs=[]\n",
    "            reqs=[]\n",
    "            for pair in difftuples:\n",
    "                defs.append(pair[0])\n",
    "                reqs.append(pair[1])\n",
    "            for value in range(12):\n",
    "                defs2[value]+=defs[value]\n",
    "                reqs2[value]+=reqs[value]\n",
    "    for i in range(len(defs2)):\n",
    "        tempdef = defs2[i]\n",
    "        tempreq = reqs2[i]\n",
    "        if tempreq == 0.0:\n",
    "            newratio = 0.0\n",
    "        else:\n",
    "            newratio = tempdef/tempreq\n",
    "        newratios.append(newratio)\n",
    "    ratiorows2[item] = newratios\n",
    "\n",
    "#for item in uniques:\n",
    "    #print(str(item) + ': ' + str(ratiorows[item]))\n",
    "    #print(\"\")\n",
    "print(ratiorows2[\"100\"])\n",
    "print(uniqdef[\"100\"])"
   ]
  },
  {
   "cell_type": "code",
   "execution_count": 12,
   "metadata": {
    "collapsed": false
   },
   "outputs": [],
   "source": [
    "rowvalues = ['F10', 'R10', 'F11', 'R11', 'F12', 'R12', 'F13', 'R13', 'F14', 'R14',\n",
    "           'F15', 'R15', 'F16', 'R16', 'F17', 'R17', 'F18', 'R18', 'F19', 'R19', 'F20', 'R20', 'F21', 'R21']\n",
    "rowyears = ['2010', '2011', '2012', '2013', '2014', '2015', '2016', '2017', '2018', '2019', '2020', '2021']"
   ]
  },
  {
   "cell_type": "code",
   "execution_count": 14,
   "metadata": {
    "collapsed": true
   },
   "outputs": [],
   "source": [
    "keys=[]\n",
    "for uni in uniques:\n",
    "    for k in ratiorows.keys():\n",
    "        if k == uni:\n",
    "            keys.append(k)\n",
    "\n",
    "ratiotuples = []\n",
    "ratiotuples.append(keys)\n",
    "for uni in uniques:\n",
    "    for k in ratiorows.keys():\n",
    "        if k == uni:\n",
    "            loc = list(ratiorows.keys()).index(k)\n",
    "            v = (list(ratiorows.values()))[loc]\n",
    "            ratiotuples.append(v)"
   ]
  },
  {
   "cell_type": "code",
   "execution_count": 62,
   "metadata": {
    "collapsed": false
   },
   "outputs": [],
   "source": [
    "with open('finaldeficitdata.csv', 'w') as f:  # Just use 'w' mode in 3.x\n",
    "    w = csv.writer(f, delimiter=',', quoting=csv.QUOTE_ALL)\n",
    "    for k in uniqdef.keys():\n",
    "        w.writerow(k)\n",
    "    for v in uniqdef.values():\n",
    "        w.writerow(v)"
   ]
  },
  {
   "cell_type": "code",
   "execution_count": 15,
   "metadata": {
    "collapsed": false
   },
   "outputs": [],
   "source": [
    "#FOR RATIOS PER APE (AVERAGE)\n",
    "with open('ratios2.csv', 'w') as f:  # Just use 'w' mode in 3.x\n",
    "    w = csv.writer(f, delimiter=',', quoting=csv.QUOTE_ALL)\n",
    "    for k in ratiorows.keys():\n",
    "        w.writerow(k)\n",
    "    for v in ratiorows.values():\n",
    "        w.writerow(v)"
   ]
  },
  {
   "cell_type": "code",
   "execution_count": 47,
   "metadata": {
    "collapsed": true
   },
   "outputs": [],
   "source": [
    "with open('ratiosperservice.csv', 'w') as f:  # Just use 'w' mode in 3.x\n",
    "    w = csv.writer(f, delimiter=',', quoting=csv.QUOTE_ALL)\n",
    "    for k in ratiorows2.keys():\n",
    "        w.writerow(k)\n",
    "    for v in ratiorows2.values():\n",
    "        w.writerow(v)"
   ]
  },
  {
   "cell_type": "markdown",
   "metadata": {},
   "source": [
    "For the RISK GRAPH in R Shiny App:"
   ]
  },
  {
   "cell_type": "code",
   "execution_count": 68,
   "metadata": {
    "collapsed": false
   },
   "outputs": [],
   "source": [
    "#print(uniqdef)"
   ]
  },
  {
   "cell_type": "code",
   "execution_count": null,
   "metadata": {
    "collapsed": true
   },
   "outputs": [],
   "source": [
    "for key in uniqdef.keys():\n",
    "    v = uniqdef[key]\n",
    "    divided=[]\n",
    "    for value in v:\n",
    "        value = value/1000\n",
    "        divided.append(value)\n",
    "    uniqdef[key]=divided"
   ]
  },
  {
   "cell_type": "code",
   "execution_count": 78,
   "metadata": {
    "collapsed": false
   },
   "outputs": [],
   "source": [
    "#uniqsize = uniqdef.copy()\n",
    "#print(uniqsize)"
   ]
  },
  {
   "cell_type": "code",
   "execution_count": 77,
   "metadata": {
    "collapsed": false
   },
   "outputs": [
    {
     "name": "stdout",
     "output_type": "stream",
     "text": [
      "[0.0, 0.0, 0.0, 0.0, 0.0, 0.0, 0.0, 0.0, -1.708, -5.269, -6.136, -6.23]\n",
      "[0.0, 0.0, 0.0, 0.0, 0.0, 0.0, 0.0, 0.0, -0.047, -0.049, -0.049, -0.049]\n",
      "[0.0, 0.0, 0.0, 0.0, 0.0, 0.0, 0.0, 0.0, -24.343, -26.776, -25.305, -24.1]\n",
      "[-20.55, -24.668, -12.613, -33.219, -67.218, -16.575, -43.701, -45.01, 0.0, 0.0, 0.0, 0.0]\n",
      "[0.0, 0.0, 0.0, 0.0, 0.0, 0.0, 0.0, 0.0, -7.355, -4.432, -4.31, -4.281]\n",
      "[121.919, -15.063, -33.656, -89.316, -93.875, -110.166, -107.799, -83.227, 0.0, 0.0, 0.0, 0.0]\n",
      "[-24.38, -61.552, -42.685, -118.893, -96.04, -32.579, -42.305, -30.14, 0.0, 0.0, 0.0, 0.0]\n",
      "[-7.32, -24.183, -12.729, -94.187, -125.552, -65.774, -61.095, -59.547, 0.0, 0.0, 0.0, 0.0]\n",
      "[0.0, 0.0, 0.0, 0.0, 0.0, 0.0, 0.0, 0.0, -6.802, -6.661, -6.603, -6.532]\n",
      "[0.0, 0.0, 0.0, 0.0, 0.0, 0.0, 0.0, 0.0, 0.0, -1.259, -1.284, -1.307]\n",
      "[-59.253, -34.024, -639.285, -26.382, -26.629, -49.473, -487.749, -729.164, 0.0, 0.0, 0.0, 0.0]\n",
      "[-3.814, -11.708, -7.099, -23.88, -22.229, -6.769, -7.396, -7.96, 0.0, 0.0, 0.0, 0.0]\n",
      "[0.0, -0.001, 0.0, 0.0, 0.0, 0.0, 0.0, 0.0, 0.0, 0.0, 0.0, 0.0]\n",
      "[14.201, 0.361, -9.996, -25.044, -38.686, -19.978, -17.342, -6.685, 0.0, 0.0, 0.0, 0.0]\n",
      "[-0.671, -123.465, -55.179, -89.992, -40.997, -32.975, -30.735, -30.047, 0.0, 0.0, 0.0, 0.0]\n",
      "[0.0, 0.0, 0.0, 0.0, 0.0, 0.0, 0.0, 0.0, -15.952, -13.292, -13.281, -13.193]\n",
      "[-16.662, -23.628, -1.004, -73.452, -35.683, -38.043, -9.474, -9.174, 0.0, 0.0, 0.0, 0.0]\n",
      "[15.391, -11.684, -1.4, -8.012, 18.169, -35.046, -2.422, -11.11, 0.0, 0.0, 0.0, 0.0]\n",
      "[-4.931, -15.511, -7.882, -23.268, -13.144, -24.949, -14.389, -8.898, 0.0, 0.0, 0.0, 0.0]\n",
      "[0.0, 0.0, 0.0, 0.0, 0.0, 0.0, 0.0, 0.0, -122.664, -108.807, -115.802, -134.6]\n",
      "[0.0, 0.0, 0.0, 0.0, 0.0, 0.0, 0.0, 0.0, -1.413, -2.267, -1.202, -1.215]\n",
      "[0.0, 0.0, 0.0, 0.0, 0.0, 0.0, 0.0, 0.0, -2.424, -3.87, -3.772, -3.78]\n",
      "[-0.807, -1.613, -0.08, -3.326, 346.669, -2.05, -1.492, -1.394, 0.0, 0.0, 0.0, 0.0]\n",
      "[62.429, -63.424, -76.217, -135.215, -122.096, -120.625, -131.926, -88.918, 0.0, 0.0, 0.0, 0.0]\n",
      "[0.0, 0.0, 0.0, 0.0, 0.0, 0.0, 0.0, 0.0, -6.492, -6.875, -19.995, -14.867]\n",
      "[-148.934, -9.115, -137.134, -326.111, -310.484, -383.583, -136.291, -138.31, 0.0, 0.0, 0.0, 0.0]\n",
      "[-100.254, -0.993, -0.514, -25.806, -219.813, -94.092, -12.39, -9.948, 0.0, 0.0, 0.0, 0.0]\n",
      "[0.0, 0.0, 0.0, 0.0, 4.319, -1.745, -1.757, -1.773, 0.0, 0.0, 0.0, 0.0]\n",
      "[-30.35, -30.629, -9.751, -109.438, -442.077, -193.476, -44.3, -7.288, 0.0, 0.0, 0.0, 0.0]\n",
      "[0.0, 0.0, 0.0, 0.0, 0.0, 0.0, 0.0, 0.0, 0.0, -0.002, 0.0, 0.0]\n",
      "[-227.626, 1.077, -53.294, -73.376, -594.579, -638.943, -289.377, -271.308, 0.0, 0.0, 0.0, 0.0]\n",
      "[-68.879, -395.941, -27.861, -153.611, 410.649, 427.187, -11.048, -29.968, 0.0, 0.0, 0.0, 0.0]\n",
      "[43.96, 130.54, -20.851, 196.328, -91.953, -52.73, -46.725, -45.99, 0.0, 0.0, 0.0, 0.0]\n",
      "[-24.684, -86.396, -13.728, -43.347, -47.807, -58.476, -60.389, -79.727, 0.0, 0.0, 0.0, 0.0]\n",
      "[22.287, 36.664, -11.58, -10.051, -9.572, -16.581, -11.903, -13.429, 0.0, 0.0, 0.0, 0.0]\n",
      "[-1.893, -1.953, -4.597, -12.515, -9.75, -7.639, -6.532, -6.932, 0.0, 0.0, 0.0, 0.0]\n",
      "[0.0, 0.0, 0.0, 0.0, -3.454, -7.091, -1.019, -0.697, 0.0, 0.0, 0.0, 0.0]\n",
      "[0.0, 0.0, 0.0, 0.0, 0.0, 0.0, 0.0, 0.0, -11.684, -4.096, -3.972, -4.033]\n",
      "[-48.582, -10.38, 56.866, -80.806, -236.095, -114.363, -73.388, -60.42, 0.0, 0.0, 0.0, 0.0]\n",
      "[0.0, 0.0, 0.0, 0.0, 0.0, 0.0, 0.0, 0.0, -3.0, -1.789, -1.787, -1.785]\n",
      "[0.0, 0.0, 0.0, 0.0, 0.0, 0.0, 0.0, 0.0, 0.0, 0.0, 0.0, 0.0]\n",
      "[0.0, 0.0, 0.0, 0.0, 0.0, 0.0, 0.0, 0.0, -17.481, -19.052, -19.252, -19.165]\n",
      "[-458.147, -493.525, -14.978, -536.225, -487.202, -370.895, -85.564, -48.82, 0.0, 0.0, 0.0, 0.0]\n",
      "[-295.947, -325.848, -46.272, -97.519, -99.006, -80.472, -84.379, -78.245, 0.0, 0.0, 0.0, 0.0]\n",
      "[7.108, -1.828, -7.548, -17.891, -16.165, 2.202, -2.592, -2.914, 0.0, 0.0, 0.0, 0.0]\n",
      "[395.488, -76.104, -416.652, -448.19, -414.929, -478.53, -275.97, -316.753, 0.0, 0.0, 0.0, 0.0]\n",
      "[-6.514, -0.258, -5.157, -92.291, -122.134, -204.07, -99.004, -78.0, 0.0, 0.0, 0.0, 0.0]\n",
      "[79.081, 28.382, -0.582, 7.235, 1.795, 6.721, -13.787, -8.358, 0.0, 0.0, 0.0, 0.0]\n",
      "[-6.296, -27.923, -10.374, -47.986, -27.307, -40.652, -36.097, -25.783, 0.0, 0.0, 0.0, 0.0]\n",
      "[-15.129, -75.809, -18.71, 5.321, -55.463, -44.127, -7.922, -2.722, 0.0, 0.0, 0.0, 0.0]\n",
      "[0.0, 0.0, 0.0, 0.0, 0.0, 0.0, 0.0, 0.0, 0.0, 0.0, 0.0, 0.0]\n",
      "[0.0, 0.0, 0.0, 0.0, 0.0, 0.0, 0.0, 0.0, -0.532, -0.431, -0.442, -0.554]\n",
      "[0.0, 0.0, 0.0, 0.0, 0.0, 0.0, 0.0, 0.0, -8.22, -5.584, -4.451, -2.456]\n",
      "[0.0, 0.0, 0.0, 0.0, 0.0, 0.0, 0.0, 0.0, 0.0, 0.0, 0.0, 0.0]\n",
      "[0.0, 0.0, 0.0, 0.0, 0.0, 0.0, 0.0, 0.0, -0.102, -0.056, 0.0, 0.0]\n",
      "[0.0, -0.088, -0.158, -0.083, -0.491, -0.629, 0.044, 0.0, 0.0, 0.0, 0.0, 0.0]\n",
      "[-2.13, -3.831, -4.363, 42.392, -91.853, -13.883, -30.703, -38.827, 0.0, 0.0, 0.0, 0.0]\n",
      "[0.652, -13.173, -1.326, -14.238, -16.007, -5.018, -1.746, -2.957, 0.0, 0.0, 0.0, 0.0]\n",
      "[17.975, -30.729, -10.393, -52.079, -50.011, -13.232, -12.684, -11.384, 0.0, 0.0, 0.0, 0.0]\n",
      "[0.0, 0.0, 0.0, 0.0, 0.0, 0.0, 0.0, 0.0, -13.445, -8.304, -8.301, -7.13]\n",
      "[17.288, 21.309, -6.147, -6.932, -11.394, -31.867, -52.913, -22.083, 0.0, 0.0, 0.0, 0.0]\n",
      "[-24.97, -67.572, -3.14, -53.055, -50.391, 2.439, -6.136, -7.506, 0.0, 0.0, 0.0, 0.0]\n",
      "[0.0, 0.0, 0.0, 0.0, 0.0, 0.0, 0.0, 0.0, 0.0, 0.0, 0.0, 0.0]\n",
      "[-4.308, -17.945, -2.78, -25.698, -22.447, 12.426, -3.023, -3.562, 0.0, 0.0, 0.0, 0.0]\n",
      "[0.0, 0.0, 0.0, 0.0, 0.0, 0.0, 0.0, 0.0, 0.0, 0.0, 0.0, 0.0]\n",
      "{'405': [0.3, 0.3, 0.3, 0.3, 0.3, 0.3, 0.3, 0.3, 1, 2, 2, 2], '503': [0.3, 0.3, 0.3, 0.3, 0.3, 0.3, 0.3, 0.3, 0.7, 0.7, 0.7, 0.7], '402': [0.3, 0.3, 0.3, 0.3, 0.3, 0.3, 0.3, 0.3, 3, 3, 3, 3], '702': [3, 3, 2, 3, 5, 2, 4, 4, 0.3, 0.3, 0.3, 0.3], '302': [0.3, 0.3, 0.3, 0.3, 0.3, 0.3, 0.3, 0.3, 2, 1, 1, 1], '506': [7, 2, 3, 6, 6, 7, 7, 6, 0.3, 0.3, 0.3, 0.3], '113': [3, 5, 4, 7, 6, 3, 4, 3, 0.3, 0.3, 0.3, 0.3], '603': [2, 3, 2, 6, 7, 5, 5, 4, 0.3, 0.3, 0.3, 0.3], '306': [0.3, 0.3, 0.3, 0.3, 0.3, 0.3, 0.3, 0.3, 2, 2, 2, 2], '304': [0.3, 0.3, 0.3, 0.3, 0.3, 0.3, 0.3, 0.3, 0.3, 1, 1, 1], '409': [4, 3, 9, 3, 3, 4, 9, 9, 0.3, 0.3, 0.3, 0.3], '106': [1, 2, 2, 3, 3, 2, 2, 2, 0.3, 0.3, 0.3, 0.3], '420': [0.3, 0.7, 0.3, 0.3, 0.3, 0.3, 0.3, 0.3, 0.3, 0.3, 0.3, 0.3], '112': [2, 0.7, 2, 3, 3, 2, 2, 2, 0.3, 0.3, 0.3, 0.3], '122': [0.7, 7, 4, 6, 4, 3, 3, 3, 0.3, 0.3, 0.3, 0.3], '307': [0.3, 0.3, 0.3, 0.3, 0.3, 0.3, 0.3, 0.3, 2, 2, 2, 2], '604': [2, 3, 1, 5, 3, 3, 2, 2, 0.3, 0.3, 0.3, 0.3], '414': [2, 2, 1, 2, 2, 3, 1, 2, 0.3, 0.3, 0.3, 0.3], '507': [1, 2, 2, 3, 2, 3, 2, 2, 0.3, 0.3, 0.3, 0.3], '400': [0.3, 0.3, 0.3, 0.3, 0.3, 0.3, 0.3, 0.3, 7, 7, 7, 7], '510': [0.3, 0.3, 0.3, 0.3, 0.3, 0.3, 0.3, 0.3, 1, 1, 1, 1], '300': [0.3, 0.3, 0.3, 0.3, 0.3, 0.3, 0.3, 0.3, 1, 1, 1, 1], '108': [0.7, 1, 0.7, 1, 9, 1, 1, 1, 0.3, 0.3, 0.3, 0.3], '200': [5, 5, 5, 7, 7, 7, 7, 6, 0.3, 0.3, 0.3, 0.3], '403': [0.3, 0.3, 0.3, 0.3, 0.3, 0.3, 0.3, 0.3, 2, 2, 2, 2], '701': [7, 2, 7, 9, 9, 9, 7, 7, 0.3, 0.3, 0.3, 0.3], '253 & 254': [7, 0.7, 0.7, 3, 8, 6, 2, 2, 0.3, 0.3, 0.3, 0.3], '424': [0.3, 0.3, 0.3, 0.3, 1, 1, 1, 1, 0.3, 0.3, 0.3, 0.3], '252': [3, 3, 2, 7, 9, 8, 4, 2, 0.3, 0.3, 0.3, 0.3], '502': [0.3, 0.3, 0.3, 0.3, 0.3, 0.3, 0.3, 0.3, 0.3, 0.7, 0.3, 0.3], '700': [8, 1, 4, 5, 9, 9, 9, 9, 0.3, 0.3, 0.3, 0.3], '703': [5, 9, 3, 8, 9, 9, 2, 3, 0.3, 0.3, 0.3, 0.3], '100': [4, 7, 3, 8, 6, 4, 4, 4, 0.3, 0.3, 0.3, 0.3], '601': [3, 6, 2, 4, 4, 4, 5, 5, 0.3, 0.3, 0.3, 0.3], '901 & 902': [3, 3, 2, 2, 2, 2, 2, 2, 0.3, 0.3, 0.3, 0.3], '605': [1, 1, 1, 2, 2, 2, 2, 2, 0.3, 0.3, 0.3, 0.3], '202': [0.3, 0.3, 0.3, 0.3, 1, 2, 1, 0.7, 0.3, 0.3, 0.3, 0.3], '408': [0.3, 0.3, 0.3, 0.3, 0.3, 0.3, 0.3, 0.3, 2, 1, 1, 1], '251': [4, 2, 4, 6, 8, 7, 5, 5, 0.3, 0.3, 0.3, 0.3], '309': [0.3, 0.3, 0.3, 0.3, 0.3, 0.3, 0.3, 0.3, 1, 1, 1, 1], '500': [0.3, 0.3, 0.3, 0.3, 0.3, 0.3, 0.3, 0.3, 0.3, 0.3, 0.3, 0.3], '305': [0.3, 0.3, 0.3, 0.3, 0.3, 0.3, 0.3, 0.3, 2, 2, 2, 2], '509': [9, 9, 2, 9, 9, 9, 6, 4, 0.3, 0.3, 0.3, 0.3], '505': [9, 9, 4, 6, 6, 6, 6, 5, 0.3, 0.3, 0.3, 0.3], '109': [2, 1, 2, 2, 2, 1, 1, 1, 0.3, 0.3, 0.3, 0.3], '600': [9, 5, 9, 9, 9, 9, 9, 9, 0.3, 0.3, 0.3, 0.3], '201': [2, 0.7, 2, 6, 7, 8, 6, 5, 0.3, 0.3, 0.3, 0.3], '118 & 124': [5, 3, 0.7, 2, 1, 2, 2, 2, 0.3, 0.3, 0.3, 0.3], '602': [2, 3, 2, 4, 3, 4, 3, 3, 0.3, 0.3, 0.3, 0.3], '250': [2, 5, 2, 2, 4, 4, 2, 1, 0.3, 0.3, 0.3, 0.3], '504': [0.3, 0.3, 0.3, 0.3, 0.3, 0.3, 0.3, 0.3, 0.3, 0.3, 0.3, 0.3], '406': [0.3, 0.3, 0.3, 0.3, 0.3, 0.3, 0.3, 0.3, 0.7, 0.7, 0.7, 0.7], '404': [0.3, 0.3, 0.3, 0.3, 0.3, 0.3, 0.3, 0.3, 2, 2, 1, 1], '303': [0.3, 0.3, 0.3, 0.3, 0.3, 0.3, 0.3, 0.3, 0.3, 0.3, 0.3, 0.3], '401': [0.3, 0.3, 0.3, 0.3, 0.3, 0.3, 0.3, 0.3, 0.7, 0.7, 0.3, 0.3], '411': [0.3, 0.7, 0.7, 0.7, 0.7, 0.7, 0.7, 0.3, 0.3, 0.3, 0.3, 0.3], '800': [1, 1, 1, 4, 6, 2, 3, 3, 0.3, 0.3, 0.3, 0.3], '111': [0.7, 2, 1, 2, 2, 2, 1, 1, 0.3, 0.3, 0.3, 0.3], '121': [2, 3, 2, 4, 4, 2, 2, 2, 0.3, 0.3, 0.3, 0.3], '301': [0.3, 0.3, 0.3, 0.3, 0.3, 0.3, 0.3, 0.3, 2, 2, 2, 2], '900': [2, 3, 2, 2, 2, 3, 4, 3, 0.3, 0.3, 0.3, 0.3], '102 & 105': [3, 5, 1, 4, 4, 1, 2, 2, 0.3, 0.3, 0.3, 0.3], '407': [0.3, 0.3, 0.3, 0.3, 0.3, 0.3, 0.3, 0.3, 0.3, 0.3, 0.3, 0.3], '107': [1, 2, 1, 3, 3, 2, 1, 1, 0.3, 0.3, 0.3, 0.3], '501': [0.3, 0.3, 0.3, 0.3, 0.3, 0.3, 0.3, 0.3, 0.3, 0.3, 0.3, 0.3]}\n"
     ]
    }
   ],
   "source": [
    "for key in uniqsize.keys():\n",
    "    v = uniqsize[key]\n",
    "    sizedup=[]\n",
    "    print(v)\n",
    "    for value in v:\n",
    "        x=np.absolute(value)\n",
    "        if x == 0.0:\n",
    "            size = 0.3\n",
    "        elif (x>0.0) and (x <=1.0):\n",
    "            size = 0.7\n",
    "        elif (x>1.0) and (x <= 5.0):\n",
    "            size = 1\n",
    "        elif (x>5.0) and (x <= 20.0):\n",
    "            size = 2\n",
    "        elif (x>20.0) and (x<= 40.0):\n",
    "            size = 3\n",
    "        elif (x>40.0) and (x <= 60.0):\n",
    "            size = 4\n",
    "        elif (x>60.0) and (x <= 80.0):\n",
    "            size = 5\n",
    "        elif (x>80.0) and (x <= 100.0):\n",
    "            size = 6\n",
    "        elif (x>100.0) and (x <= 150.0):\n",
    "            size = 7\n",
    "        elif (x>150.0) and (x <= 250.0):\n",
    "            size = 8\n",
    "        elif (x>250.0):\n",
    "            size = 9\n",
    "        sizedup.append(size)\n",
    "    uniqsize[key]=sizedup\n",
    "print(uniqsize)"
   ]
  },
  {
   "cell_type": "code",
   "execution_count": 65,
   "metadata": {
    "collapsed": false
   },
   "outputs": [
    {
     "data": {
      "text/plain": [
       "{'boxes': [<matplotlib.lines.Line2D at 0x7e9f0b8>],\n",
       " 'caps': [<matplotlib.lines.Line2D at 0x7ea79b0>,\n",
       "  <matplotlib.lines.Line2D at 0x7ea7be0>],\n",
       " 'fliers': [],\n",
       " 'means': [],\n",
       " 'medians': [<matplotlib.lines.Line2D at 0x7eac3c8>],\n",
       " 'whiskers': [<matplotlib.lines.Line2D at 0x7e9fa20>,\n",
       "  <matplotlib.lines.Line2D at 0x7e9fc50>]}"
      ]
     },
     "execution_count": 65,
     "metadata": {},
     "output_type": "execute_result"
    },
    {
     "data": {
      "image/png": "[encoded data removed]",
      "text/plain": [
       "<matplotlib.figure.Figure at 0x7e50438>"
      ]
     },
     "metadata": {},
     "output_type": "display_data"
    }
   ],
   "source": [
    "boxdata=[]\n",
    "for lists in uniqdef.values():\n",
    "    for v in lists:\n",
    "        if v != 0.0:\n",
    "            boxdata.append(v)\n",
    "\n",
    "plt.boxplot(boxdata, 0, '', 0, 0.75)"
   ]
  },
  {
   "cell_type": "code",
   "execution_count": 79,
   "metadata": {
    "collapsed": true
   },
   "outputs": [],
   "source": [
    "with open('scattersize.csv', 'w') as f:  # Just use 'w' mode in 3.x\n",
    "    w = csv.writer(f, delimiter=',', quoting=csv.QUOTE_ALL)\n",
    "    for k in uniqsize.keys():\n",
    "        w.writerow(k)\n",
    "    for v in uniqsize.values():\n",
    "        w.writerow(v)"
   ]
  },
  {
   "cell_type": "code",
   "execution_count": null,
   "metadata": {
    "collapsed": true
   },
   "outputs": [],
   "source": []
  }
 ],
 "metadata": {
  "kernelspec": {
   "display_name": "Python 3",
   "language": "python",
   "name": "python3"
  },
  "language_info": {
   "codemirror_mode": {
    "name": "ipython",
    "version": 3
   },
   "file_extension": ".py",
   "mimetype": "text/x-python",
   "name": "python",
   "nbconvert_exporter": "python",
   "pygments_lexer": "ipython3",
   "version": "3.5.0"
  }
 },
 "nbformat": 4,
 "nbformat_minor": 0
}
